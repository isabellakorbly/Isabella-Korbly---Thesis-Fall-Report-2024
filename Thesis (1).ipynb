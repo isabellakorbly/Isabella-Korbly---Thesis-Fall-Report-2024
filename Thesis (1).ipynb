{
 "cells": [
  {
   "cell_type": "markdown",
   "id": "678cdf86-0a54-4283-9a59-3017e085a370",
   "metadata": {},
   "source": [
    "# Problem Parameters"
   ]
  },
  {
   "cell_type": "code",
   "execution_count": 1,
   "id": "8ffd593a-1469-4ab3-afcd-640dd0229296",
   "metadata": {},
   "outputs": [],
   "source": [
    "import numpy as np\n",
    "from scipy.interpolate import RegularGridInterpolator\n",
    "from scipy.integrate import solve_ivp\n",
    "import matplotlib.pyplot as plt\n",
    "\n",
    "# Parameters\n",
    "k_a = 1  # Fitness gain factor\n",
    "k_f = 2  # Fatigue accumulation factor\n",
    "tau_a = 45  # Fitness decay constant\n",
    "tau_f = 12   # Fatigue recovery constant\n",
    "eta = 0.1   # Sensitivity of performance to fatigue ? Not exactly sure what this number should be yet or if I need it\n",
    "T = 170    # Time from beginning of training to Ivy League Championships (peak)\n",
    "p_desired = 1.5  # Arbitrary number, need to scale and determine if you want a percent increase or actual time"
   ]
  },
  {
   "cell_type": "markdown",
   "id": "bbad037e-8c90-4a5c-ac97-e63412304a58",
   "metadata": {},
   "source": [
    "# Discretize the state space and time horizon"
   ]
  },
  {
   "cell_type": "code",
   "execution_count": 2,
   "id": "dca91230-29d3-42e6-a88b-c9a5405287e7",
   "metadata": {},
   "outputs": [],
   "source": [
    "# State and time grid\n",
    "n_g, n_h, n_t = 50, 50, 170  # Number of grid points for g, h, and t\n",
    "g_max, h_max = 2.0, 1.5  # Guess max fitness and fatigue ? need to look in literature\n",
    "g_grid = np.linspace(0, g_max, n_g)\n",
    "h_grid = np.linspace(0, h_max, n_h)\n",
    "t_grid = np.linspace(0, T, n_t)\n",
    "\n",
    "# Value function and optimal w storage\n",
    "V = np.full((n_g, n_h, n_t), np.inf)  # Initialize V with large values\n",
    "W_opt = np.zeros((n_g, n_h, n_t))  # To store optimal w(t)\n",
    "\n",
    "# Terminal condition for V at t = T\n",
    "for i in range(n_g):\n",
    "    for j in range(n_h):\n",
    "        g, h = g_grid[i], h_grid[j]\n",
    "        p = g * np.exp(-eta * h) # or g - h\n",
    "        V[i, j, -1] = p - p_desired"
   ]
  },
  {
   "cell_type": "markdown",
   "id": "c8636212-b166-4ed2-8103-32c32545926f",
   "metadata": {},
   "source": [
    "# Solve $V(g,h,t)$ and $w_{opt}(t)$ backward in time"
   ]
  },
  {
   "cell_type": "code",
   "execution_count": 3,
   "id": "10aa84f7-0839-4ef0-acf6-2b9446a22d06",
   "metadata": {},
   "outputs": [
    {
     "name": "stderr",
     "output_type": "stream",
     "text": [
      "/var/folders/ws/vy5jrlkn4kv171774n_ry5hh0000gn/T/ipykernel_12483/1071430336.py:20: RuntimeWarning: invalid value encountered in scalar subtract\n",
      "  w_opt = max(0, min(1, (grad_V[1] * k_f - grad_V[0] * k_a * h_grid[j]) / 2))\n",
      "/var/folders/ws/vy5jrlkn4kv171774n_ry5hh0000gn/T/ipykernel_12483/1071430336.py:28: RuntimeWarning: invalid value encountered in matmul\n",
      "  V[i, j, t_idx] = V[i, j, t_idx+1] - dt * (grad_V @ F - C)\n",
      "/var/folders/ws/vy5jrlkn4kv171774n_ry5hh0000gn/T/ipykernel_12483/1071430336.py:12: RuntimeWarning: invalid value encountered in scalar subtract\n",
      "  dV_dh = (V[i, j, t_idx+1] - V[i, j-1, t_idx+1]) / dh\n",
      "/var/folders/ws/vy5jrlkn4kv171774n_ry5hh0000gn/T/ipykernel_12483/1071430336.py:11: RuntimeWarning: invalid value encountered in scalar subtract\n",
      "  dV_dg = (V[i, j, t_idx+1] - V[i-1, j, t_idx+1]) / dg\n"
     ]
    }
   ],
   "source": [
    "# Time step size\n",
    "dt = T / (n_t - 1)\n",
    "dg = g_grid[1] - g_grid[0]\n",
    "dh = h_grid[1] - h_grid[0]\n",
    "\n",
    "# Backward HJB solver\n",
    "for t_idx in range(n_t - 2, -1, -1):  # Start from second-to-last time step\n",
    "    for i in range(1, n_g):  # Skip g_min for backward difference\n",
    "        for j in range(1, n_h):  # Skip h_min for backward difference\n",
    "            # Gradients of V\n",
    "            dV_dg = (V[i, j, t_idx+1] - V[i-1, j, t_idx+1]) / dg\n",
    "            dV_dh = (V[i, j, t_idx+1] - V[i, j-1, t_idx+1]) / dh\n",
    "            grad_V = np.array([dV_dg, dV_dh])\n",
    "\n",
    "            # Hamiltonian components\n",
    "            def F1(w): return k_a * h_grid[j] * (1 - w) - g_grid[i] / tau_a\n",
    "            def F2(w): return k_f * w - h_grid[j] / tau_f\n",
    "\n",
    "            # Maximize H to find optimal w\n",
    "            w_opt = max(0, min(1, (grad_V[1] * k_f - grad_V[0] * k_a * h_grid[j]) / 2))\n",
    "            W_opt[i, j, t_idx] = w_opt  # Store optimal w\n",
    "\n",
    "            # Compute the dynamics using w_opt\n",
    "            F = np.array([F1(w_opt), F2(w_opt)])\n",
    "            C = w_opt**2  # Quadratic cost of training load\n",
    "\n",
    "            # Update value function\n",
    "            V[i, j, t_idx] = V[i, j, t_idx+1] - dt * (grad_V @ F - C)"
   ]
  },
  {
   "cell_type": "markdown",
   "id": "9dcf25b5-0453-4d50-bac8-fd202821dcd3",
   "metadata": {},
   "source": [
    "# Interpolate\n",
    "The interpolation function takes any $g,h,t$ as input and returns the corresponding $w_{opt}(g,h,t)$ by interpolating between the grid points."
   ]
  },
  {
   "cell_type": "code",
   "execution_count": 4,
   "id": "4b4b58ff-2429-4521-9f92-8af8b3f8537e",
   "metadata": {},
   "outputs": [],
   "source": [
    "# Interpolator for w_opt\n",
    "interpolate_w_opt = RegularGridInterpolator((g_grid, h_grid, t_grid), W_opt, bounds_error=False, fill_value=0)"
   ]
  },
  {
   "cell_type": "markdown",
   "id": "e82e96c4-4d11-42d8-8d50-cc8c30c104fc",
   "metadata": {},
   "source": [
    "# Simulate $g(t)$, $h(t)$, and $p(t)$ forward in time starting from initial conditions"
   ]
  },
  {
   "cell_type": "code",
   "execution_count": 5,
   "id": "8dda8ac6-ea5f-4c96-a018-44602b97456a",
   "metadata": {},
   "outputs": [],
   "source": [
    "# Forward simulation of dynamics\n",
    "def forward_dynamics(t, y):\n",
    "    g, h = y\n",
    "    w_t = interpolate_w_opt((g, h, t))  # Get optimal w(t) from interpolator\n",
    "    dg_dt = k_a * h * (1 - w_t) - g / tau_a\n",
    "    dh_dt = k_f * w_t - h / tau_f\n",
    "    return [dg_dt, dh_dt]\n",
    "\n",
    "# Initial conditions\n",
    "g0, h0 = 1.0, 0.5  # Arbitrary starting fitness and fatigue\n",
    "y0 = [g0, h0]\n",
    "\n",
    "# Time points for forward simulation\n",
    "t_eval = np.linspace(0, T, 1000)\n",
    "\n",
    "# Solve forward dynamics\n",
    "solution = solve_ivp(forward_dynamics, (0, T), y0, t_eval=t_eval)\n",
    "time = solution.t\n",
    "g = solution.y[0]\n",
    "h = solution.y[1]\n",
    "\n",
    "# Compute performance\n",
    "p = g * np.exp(-eta * h)   # Option 1\n",
    "p = g - h    # Option 2"
   ]
  },
  {
   "cell_type": "code",
   "execution_count": 8,
   "id": "289280f5-06fd-4ff4-b0b4-be8f0911ec74",
   "metadata": {},
   "outputs": [
    {
     "data": {
      "text/plain": [
       "[<matplotlib.lines.Line2D at 0x12e09abd0>]"
      ]
     },
     "execution_count": 8,
     "metadata": {},
     "output_type": "execute_result"
    },
    {
     "data": {
      "image/png": "[encoded data removed]",
      "text/plain": [
       "<Figure size 640x480 with 1 Axes>"
      ]
     },
     "metadata": {},
     "output_type": "display_data"
    }
   ],
   "source": [
    "import matplotlib.pyplot as plt\n",
    "plt.plot(V[25, 25, :])"
   ]
  },
  {
   "cell_type": "code",
   "execution_count": null,
   "id": "bdc990dc-6640-42f0-a085-940aa2d3c757",
   "metadata": {},
   "outputs": [],
   "source": []
  }
 ],
 "metadata": {
  "kernelspec": {
   "display_name": "Python 3 (ipykernel)",
   "language": "python",
   "name": "python3"
  },
  "language_info": {
   "codemirror_mode": {
    "name": "ipython",
    "version": 3
   },
   "file_extension": ".py",
   "mimetype": "text/x-python",
   "name": "python",
   "nbconvert_exporter": "python",
   "pygments_lexer": "ipython3",
   "version": "3.12.0"
  }
 },
 "nbformat": 4,
 "nbformat_minor": 5
}
